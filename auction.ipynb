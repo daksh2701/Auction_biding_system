{
  "nbformat": 4,
  "nbformat_minor": 0,
  "metadata": {
    "colab": {
      "provenance": [],
      "authorship_tag": "ABX9TyMjyBfBck5RpGNnTBAjFl8H",
      "include_colab_link": true
    },
    "kernelspec": {
      "name": "python3",
      "display_name": "Python 3"
    },
    "language_info": {
      "name": "python"
    }
  },
  "cells": [
    {
      "cell_type": "markdown",
      "metadata": {
        "id": "view-in-github",
        "colab_type": "text"
      },
      "source": [
        "<a href=\"https://colab.research.google.com/github/daksh2701/Auction_biding_system/blob/main/auction.ipynb\" target=\"_parent\"><img src=\"https://colab.research.google.com/assets/colab-badge.svg\" alt=\"Open In Colab\"/></a>"
      ]
    },
    {
      "cell_type": "code",
      "execution_count": null,
      "metadata": {
        "id": "Re7W7xTJunUK"
      },
      "outputs": [],
      "source": [
        "# #ask the user for the inputs\n",
        "# name =  input(\"Enter you Name :\\n\")\n",
        "# price =  float(input(\"Enter your bid : \\n\"))\n",
        "\n",
        "# #save the data into the dictionary\n",
        "# bids = {}\n",
        "# bids{name}=price\n",
        "\n",
        "# #wether new bids need to be added ?\n",
        "def find_highest_bidder(bidding_dictionary):\n",
        "            highest_bid = 0\n",
        "            winner = \"\"\n",
        "            for bidder in bidding_dictionary:\n",
        "                bid_amount = bidding_dictionary[bidder]\n",
        "                if bid_amount> highest_bid:\n",
        "                    highest_bid = bid_amount\n",
        "                    winner = bidder\n",
        "            print(f\"The winner is {winner} with ${highest_bid} bid\")\n",
        "bids={}\n",
        "continue_bidding = True\n",
        "while continue_bidding:\n",
        "    name =  input(\"Enter you Name :\\n\")\n",
        "    price =  float(input(\"Enter your bid : $ \"))\n",
        "    bids[name] = price\n",
        "    should_continue = input(\"Are there any other bidders? Type 'Yes' or 'No'\")\n",
        "    if should_continue == \"No\":\n",
        "        continue_bidding = False\n",
        "        find_highest_bidder(bids)\n",
        "    elif should_continue == \"Yes\":\n",
        "        print(\"\\n\" *1000)\n",
        "\n"
      ]
    }
  ]
}